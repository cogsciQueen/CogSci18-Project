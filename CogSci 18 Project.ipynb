{
 "cells": [
  {
   "cell_type": "markdown",
   "metadata": {},
   "source": [
    "# Project Description"
   ]
  },
  {
   "cell_type": "markdown",
   "metadata": {},
   "source": [
    "1. In this project, I implemented an encryption algorithm called 'RSA' named after Ronald Rivest, Adi\n",
    "Shamir, and Leonard Adleman who are the authors of the algorithm.\n",
    "\n",
    "\n",
    "2. The program will ask the user to type a message that is written in English. Then the program will encrypt the message and produce the encryption supplemented by a PIN code. \n",
    "\n",
    "\n",
    "\n",
    "3. In order to decrypt the encrypted message, you'll need to provide the PIN code.\n",
    "\n",
    "\n",
    "4. In order to use the email option, you'll need to have an active Google account with 'Allow less secure apps' property to 'ON'. You can do so by following this link https://myaccount.google.com/lesssecureapps\n"
   ]
  },
  {
   "cell_type": "markdown",
   "metadata": {},
   "source": [
    "# Project Code"
   ]
  },
  {
   "cell_type": "code",
   "execution_count": 1,
   "metadata": {},
   "outputs": [],
   "source": [
    "from my_module.functions import *\n",
    "from my_module.classes import *\n"
   ]
  },
  {
   "cell_type": "code",
   "execution_count": 5,
   "metadata": {},
   "outputs": [
    {
     "name": "stdout",
     "output_type": "stream",
     "text": [
      "Menu :\n",
      "Enter 1 to encrypt a message\n",
      "Enter 2 to decrypt a message\n",
      "Enter 3 to send an encrypted Email\n",
      "1\n",
      "Enter your message : Hello everyone!\n",
      "Encrypted Message : 002746446940694055112707464460354644110205285511601746440577\n",
      "Your pin code is : 79895\n"
     ]
    }
   ],
   "source": [
    "run()"
   ]
  },
  {
   "cell_type": "markdown",
   "metadata": {},
   "source": [
    "<b> My Python Background: </b>\n",
    "\n",
    "Before class started, I took an online course on edX offered by MIT. It was a tough class and couldn't finish all of it, but it certainly gave me a headstart nonetheless.\n"
   ]
  },
  {
   "cell_type": "markdown",
   "metadata": {},
   "source": [
    "<b> How your project went above and beyond the requirements of the project and/or how you challenged yourself to learn something new with the final project? </b>\n",
    "\n",
    "I challenged myself by studying a whole cryptography section in discrete math book called 'Discrete Mathematics and Its Applications' by Kenneth Rosen. I struggled a lot since it was a new topic called Modular Arithmetic, however, with the help with tons of Youtube videos, I managed to wrap my head around the RSA algorithm. I got very interested in learning more about Cryptography. "
   ]
  },
  {
   "cell_type": "code",
   "execution_count": null,
   "metadata": {},
   "outputs": [],
   "source": []
  }
 ],
 "metadata": {
  "kernelspec": {
   "display_name": "Python 3",
   "language": "python",
   "name": "python3"
  },
  "language_info": {
   "codemirror_mode": {
    "name": "ipython",
    "version": 3
   },
   "file_extension": ".py",
   "mimetype": "text/x-python",
   "name": "python",
   "nbconvert_exporter": "python",
   "pygments_lexer": "ipython3",
   "version": "3.7.6"
  }
 },
 "nbformat": 4,
 "nbformat_minor": 4
}
